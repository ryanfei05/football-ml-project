{
 "cells": [
  {
   "cell_type": "code",
   "execution_count": 1,
   "id": "d095054f-f80d-4aae-882d-a38a568872eb",
   "metadata": {},
   "outputs": [],
   "source": [
    "#import requests"
   ]
  },
  {
   "cell_type": "code",
   "execution_count": 2,
   "id": "a1f4238b-4871-4f2a-8336-b905361db822",
   "metadata": {},
   "outputs": [],
   "source": [
    "#standings_url = \"https://fbref.com/en/comps/9/Premier-League-Stats\""
   ]
  },
  {
   "cell_type": "code",
   "execution_count": 3,
   "id": "10ae0541-64c7-404d-8cdd-87a67210cfc3",
   "metadata": {},
   "outputs": [],
   "source": [
    "#data = requests.get(standings_url)"
   ]
  },
  {
   "cell_type": "code",
   "execution_count": 4,
   "id": "34ff435c-34db-42c0-a231-bbe613943715",
   "metadata": {},
   "outputs": [],
   "source": [
    "#from bs4 import BeautifulSoup"
   ]
  },
  {
   "cell_type": "code",
   "execution_count": 5,
   "id": "6361272d-645a-42fe-aebc-be6ed23df537",
   "metadata": {},
   "outputs": [],
   "source": [
    "#soup = BeautifulSoup(data.text)"
   ]
  },
  {
   "cell_type": "code",
   "execution_count": 6,
   "id": "94acd610-d1d0-4523-93bf-ead91bfd0571",
   "metadata": {},
   "outputs": [],
   "source": [
    "#standings_table = soup.select('table.stats_table')[0]"
   ]
  },
  {
   "cell_type": "code",
   "execution_count": 7,
   "id": "64c59613-c3eb-4306-af8f-9db953dc3b60",
   "metadata": {},
   "outputs": [],
   "source": [
    "#links = standings_table.find_all('a')"
   ]
  },
  {
   "cell_type": "code",
   "execution_count": 8,
   "id": "fd07aa55-4c36-4ef9-943c-c2476d184899",
   "metadata": {},
   "outputs": [],
   "source": [
    "#links = [l.get(\"href\") for l in links]"
   ]
  },
  {
   "cell_type": "code",
   "execution_count": 9,
   "id": "bee668e4-14c8-4b3b-bd11-b02cc1dd61ab",
   "metadata": {},
   "outputs": [],
   "source": [
    "#links = [l for l in links if '/squads/' in l]"
   ]
  },
  {
   "cell_type": "code",
   "execution_count": 10,
   "id": "141ccc7a-45e0-4927-8f23-d9e787cb2cf8",
   "metadata": {},
   "outputs": [],
   "source": [
    "#team_urls = [f\"https://fbref.com{l}\" for l in links]"
   ]
  },
  {
   "cell_type": "code",
   "execution_count": 11,
   "id": "d01d4115-a601-4a6d-a03b-11f2e6c61d15",
   "metadata": {},
   "outputs": [],
   "source": [
    "#team_url = team_urls[0]"
   ]
  },
  {
   "cell_type": "code",
   "execution_count": 12,
   "id": "3376b441-c3ed-4595-ad84-2947328b0431",
   "metadata": {},
   "outputs": [],
   "source": [
    "#data = requests.get(team_url)"
   ]
  },
  {
   "cell_type": "code",
   "execution_count": 13,
   "id": "994b15b8-5475-4214-88ca-24a4fa177ca6",
   "metadata": {},
   "outputs": [
    {
     "data": {
      "text/plain": [
       "'import pandas as pd\\nfrom io import StringIO\\nhtml_content = StringIO(data.text)\\nmatches = pd.read_html(html_content, match=\"Scores & Fixtures\")\\n'"
      ]
     },
     "execution_count": 13,
     "metadata": {},
     "output_type": "execute_result"
    }
   ],
   "source": [
    "\"\"\"import pandas as pd\n",
    "from io import StringIO\n",
    "html_content = StringIO(data.text)\n",
    "matches = pd.read_html(html_content, match=\"Scores & Fixtures\")\n",
    "\"\"\""
   ]
  },
  {
   "cell_type": "code",
   "execution_count": 14,
   "id": "d9b6a4f0-95e8-42b9-8d75-eb4ebc422bee",
   "metadata": {},
   "outputs": [],
   "source": [
    "#matches[0].head()"
   ]
  },
  {
   "cell_type": "code",
   "execution_count": 15,
   "id": "0c50916a-bcef-4d95-8a6f-9a830f095267",
   "metadata": {},
   "outputs": [],
   "source": [
    "#soup = BeautifulSoup(data.text)"
   ]
  },
  {
   "cell_type": "code",
   "execution_count": 16,
   "id": "1f199fb4-81d0-429c-83d8-c48db0ef397a",
   "metadata": {},
   "outputs": [],
   "source": [
    "#links = soup.find_all('a')"
   ]
  },
  {
   "cell_type": "code",
   "execution_count": 17,
   "id": "87a8be25-5446-4e65-94c2-6dc6d589f1ae",
   "metadata": {},
   "outputs": [],
   "source": [
    "#links = [l.get(\"href\") for l in links]"
   ]
  },
  {
   "cell_type": "code",
   "execution_count": 18,
   "id": "e621910b-2fd2-4cde-8cb0-b15dd21de6a8",
   "metadata": {},
   "outputs": [],
   "source": [
    "#links = [l for l in links if l and 'all_comps/shooting/' in l]"
   ]
  },
  {
   "cell_type": "code",
   "execution_count": 19,
   "id": "fbfaa21b-453d-40c5-a3c8-55cdd12433bd",
   "metadata": {},
   "outputs": [],
   "source": [
    "#links"
   ]
  },
  {
   "cell_type": "code",
   "execution_count": 20,
   "id": "44a805c5-98a8-493b-8751-f16d7e6d0cf5",
   "metadata": {},
   "outputs": [],
   "source": [
    "#data = requests.get(f\"https://fbref.com{links[0]}\")"
   ]
  },
  {
   "cell_type": "code",
   "execution_count": 21,
   "id": "2f05a33f-a011-4fb4-a1fb-1fa9570513c3",
   "metadata": {},
   "outputs": [],
   "source": [
    "#html_content = StringIO(data.text)\n",
    "#shooting = pd.read_html(html_content, match=\"Shooting\")[0]"
   ]
  },
  {
   "cell_type": "code",
   "execution_count": 22,
   "id": "d8beb992-8d90-4292-b2d7-9c1c419c1812",
   "metadata": {},
   "outputs": [],
   "source": [
    "#shooting.head(5)"
   ]
  },
  {
   "cell_type": "code",
   "execution_count": 23,
   "id": "9313b225-c11e-4668-a919-c137a3ede629",
   "metadata": {},
   "outputs": [],
   "source": [
    "#shooting.columns = shooting.columns.droplevel()"
   ]
  },
  {
   "cell_type": "code",
   "execution_count": 24,
   "id": "ecced766-1e6d-401e-9358-7154c6a14861",
   "metadata": {},
   "outputs": [],
   "source": [
    "#shooting.head()"
   ]
  },
  {
   "cell_type": "code",
   "execution_count": 25,
   "id": "900e0ace-963b-4659-b380-f2f9beb4abd9",
   "metadata": {},
   "outputs": [],
   "source": [
    "#team_data = matches[0].merge(shooting[[\"Date\", \"Sh\", \"SoT\", \"Dist\", \"FK\", \"PK\", \"PKatt\"]], on=\"Date\")"
   ]
  },
  {
   "cell_type": "code",
   "execution_count": 26,
   "id": "0cf2408c-caad-4aca-9abc-fd76f6e261b1",
   "metadata": {},
   "outputs": [],
   "source": [
    "#team_data.head()"
   ]
  },
  {
   "cell_type": "code",
   "execution_count": 27,
   "id": "85c5f779-5816-4d6a-9045-5113949df169",
   "metadata": {},
   "outputs": [],
   "source": [
    "years = list(range(2024, 2016, -1))"
   ]
  },
  {
   "cell_type": "code",
   "execution_count": 28,
   "id": "f576294d-8b89-4e57-8293-5c4df245418e",
   "metadata": {},
   "outputs": [],
   "source": [
    "all_matches = []"
   ]
  },
  {
   "cell_type": "code",
   "execution_count": 29,
   "id": "cde4ee4f-8527-4f47-931e-54551bb86975",
   "metadata": {},
   "outputs": [],
   "source": [
    "standings_url = \"https://fbref.com/en/comps/9/Premier-League-Stats\""
   ]
  },
  {
   "cell_type": "code",
   "execution_count": 30,
   "id": "f0e1b815-738f-47d7-849c-0737cf7546ea",
   "metadata": {},
   "outputs": [],
   "source": [
    "import time\n",
    "from io import StringIO\n",
    "import pandas as pd\n",
    "from bs4 import BeautifulSoup\n",
    "import requests\n",
    "\n",
    "for year in years:\n",
    "    data = requests.get(standings_url)\n",
    "    soup = BeautifulSoup(data.text)\n",
    "    standings_table = soup.select('table.stats_table')[0]\n",
    "\n",
    "    links = [l.get(\"href\") for l in standings_table.find_all('a')]\n",
    "    links = [l for l in links if '/squads/' in l]\n",
    "    team_urls = [f\"https://fbref.com{l}\" for l in links]\n",
    "\n",
    "    previous_season = soup.select(\"a.prev\")[0].get(\"href\")\n",
    "    standings_url = f\"https://fbref.com/{previous_season}\"\n",
    "\n",
    "    for team_url in team_urls:\n",
    "        team_name = team_url.split(\"/\")[-1].replace(\"-Stats\", \"\").replace(\"-\", \" \")\n",
    "\n",
    "        data = requests.get(team_url)\n",
    "        html_content = StringIO(data.text)\n",
    "        matches = pd.read_html(html_content, match=\"Scores & Fixtures\")[0]\n",
    "\n",
    "        soup = BeautifulSoup(data.text)\n",
    "        links = [l.get(\"href\") for l in soup.find_all('a')]\n",
    "        links = [l for l in links if l and 'all_comps/shooting/' in l]\n",
    "        data = requests.get(f\"https://fbref.com{links[0]}\")\n",
    "        html_content = StringIO(data.text)\n",
    "        shooting=pd.read_html(html_content, match=\"Shooting\")[0]\n",
    "        shooting.columns = shooting.columns.droplevel()\n",
    "\n",
    "        try:\n",
    "            team_data = matches.merge(shooting[[\"Date\", \"Sh\", \"SoT\", \"Dist\", \"FK\", \"PK\", \"PKatt\"]], on=\"Date\")\n",
    "        except ValueError:\n",
    "            continue\n",
    "\n",
    "        team_data = team_data[team_data[\"Comp\"] == \"Premier League\"]\n",
    "        team_data[\"Season\"] = year\n",
    "        team_data[\"Team\"] = team_name\n",
    "        all_matches.append(team_data)\n",
    "        time.sleep(7)\n",
    "        "
   ]
  },
  {
   "cell_type": "code",
   "execution_count": 31,
   "id": "e40e244f-271a-4c90-a6c0-0d47fbf684d3",
   "metadata": {},
   "outputs": [],
   "source": [
    "match_df = pd.concat(all_matches)\n",
    "match_df.columns = [c.lower() for c in match_df.columns]"
   ]
  },
  {
   "cell_type": "code",
   "execution_count": null,
   "id": "3ee7caad-4e05-4f0f-8a14-a887a9c42b9d",
   "metadata": {},
   "outputs": [],
   "source": [
    "match_df.to_csv('17-24-matches.csv')"
   ]
  },
  {
   "cell_type": "code",
   "execution_count": null,
   "id": "977c08bb-3230-416e-8aff-5f92e0b29939",
   "metadata": {},
   "outputs": [],
   "source": []
  }
 ],
 "metadata": {
  "kernelspec": {
   "display_name": "Python 3 (ipykernel)",
   "language": "python",
   "name": "python3"
  },
  "language_info": {
   "codemirror_mode": {
    "name": "ipython",
    "version": 3
   },
   "file_extension": ".py",
   "mimetype": "text/x-python",
   "name": "python",
   "nbconvert_exporter": "python",
   "pygments_lexer": "ipython3",
   "version": "3.11.7"
  }
 },
 "nbformat": 4,
 "nbformat_minor": 5
}
